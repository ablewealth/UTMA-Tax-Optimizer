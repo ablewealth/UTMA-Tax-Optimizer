{
  "nbformat": 4,
  "nbformat_minor": 0,
  "metadata": {
    "colab": {
      "provenance": [],
      "authorship_tag": "ABX9TyMBP08zGYhVf1Ss3adu05d/",
      "include_colab_link": true
    },
    "kernelspec": {
      "name": "python3",
      "display_name": "Python 3"
    },
    "language_info": {
      "name": "python"
    }
  },
  "cells": [
    {
      "cell_type": "markdown",
      "metadata": {
        "id": "view-in-github",
        "colab_type": "text"
      },
      "source": [
        "<a href=\"https://colab.research.google.com/github/ablewealth/UTMA-Tax-Optimizer/blob/main/UTMA_Tax_Optimizer.ipynb\" target=\"_parent\"><img src=\"https://colab.research.google.com/assets/colab-badge.svg\" alt=\"Open In Colab\"/></a>"
      ]
    },
    {
      "cell_type": "code",
      "execution_count": null,
      "metadata": {
        "id": "Zt9fFqivYV8E"
      },
      "outputs": [],
      "source": [
        "pip install streamlit"
      ]
    },
    {
      "cell_type": "code",
      "source": [
        "import streamlit as st\n",
        "import pandas as pd\n",
        "import json\n",
        "\n",
        "st.set_page_config(page_title=\"UTMA/UGMA Tax Optimization 2025\", layout=\"centered\")\n",
        "\n",
        "# --- Sidebar for navigation ---\n",
        "st.sidebar.title(\"Navigation\")\n",
        "step = st.sidebar.radio(\"Go to\", [\"Account Info\", \"Holdings\", \"Optimization\"])\n",
        "\n",
        "# --- Preset Example Button ---\n",
        "def load_example():\n",
        "    st.session_state['account_id'] = \"ACCT-1001\"\n",
        "    st.session_state['ytd_income'] = 1200.5\n",
        "    st.session_state['positions'] = '[{\"symbol\": \"AAPL\", \"unrealized_gain\": 500, \"quantity\": 10}]'\n",
        "    st.session_state['tax_year'] = \"2025\"\n",
        "\n",
        "st.sidebar.button(\"Load Example\", on_click=load_example)\n",
        "\n",
        "# --- Step 1: Account Info ---\n",
        "if step == \"Account Info\":\n",
        "    st.title(\"Step 1: Enter Account Info\")\n",
        "    account_id = st.text_input(\"Account ID\", key='account_id')\n",
        "    ytd_income = st.number_input(\"YTD Income\", min_value=0.0, step=0.01, key='ytd_income')\n",
        "    tax_year = st.selectbox(\"Tax Year\", [\"2025\", \"2026\"], key='tax_year')\n",
        "\n",
        "# --- Step 2: Holdings ---\n",
        "if step == \"Holdings\":\n",
        "    st.title(\"Step 2: Enter Holdings\")\n",
        "    positions = st.text_area(\"Positions (JSON)\", value=st.session_state.get('positions', ''), key='positions')\n",
        "    st.info('Example: [{\"symbol\": \"AAPL\", \"unrealized_gain\": 500, \"quantity\": 10}]')\n",
        "\n",
        "# --- Step 3: Optimization ---\n",
        "if step == \"Optimization\":\n",
        "    st.title(\"Step 3: Optimize\")\n",
        "    # Retrieve data from session state\n",
        "    account_id = st.session_state.get('account_id', '')\n",
        "    ytd_income = st.session_state.get('ytd_income', 0.0)\n",
        "    tax_year = st.session_state.get('tax_year', '2025')\n",
        "    positions = st.session_state.get('positions', '[]')\n",
        "    try:\n",
        "        positions_data = json.loads(positions)\n",
        "        st.write(\"Account ID:\", account_id)\n",
        "        st.write(\"YTD Income:\", ytd_income)\n",
        "        st.write(\"Tax Year:\", tax_year)\n",
        "        st.write(\"Positions:\", positions_data)\n",
        "        # --- Insert your optimization logic here ---\n",
        "        st.success(\"Optimization complete! (Insert results here)\")\n",
        "    except Exception as e:\n",
        "        st.error(f\"Error in positions JSON: {e}\")\n",
        "\n",
        "# --- Layout Tips ---\n",
        "st.sidebar.markdown(\"---\")\n",
        "st.sidebar.info(\"Tip: Use the sidebar to navigate steps. Use 'Load Example' for a demo.\")\n",
        "\n"
      ],
      "metadata": {
        "id": "ds0pY-_6YYJs"
      },
      "execution_count": null,
      "outputs": []
    },
    {
      "cell_type": "markdown",
      "source": [
        "Add `%load_ext cudf.pandas` before importing pandas to speed up operations using GPU"
      ],
      "metadata": {
        "id": "xaRSLqPida3s"
      }
    },
    {
      "cell_type": "code",
      "source": [
        "%load_ext cudf.pandas\n",
        "import pandas as pd\n",
        "import numpy as np\n",
        "\n",
        "# Randomly generated dataset of parking violations-\n",
        "# Define the number of rows\n",
        "num_rows = 1000000\n",
        "\n",
        "states = [\"NY\", \"NJ\", \"CA\", \"TX\"]\n",
        "violations = [\"Double Parking\", \"Expired Meter\", \"No Parking\",\n",
        "              \"Fire Hydrant\", \"Bus Stop\"]\n",
        "vehicle_types = [\"SUBN\", \"SDN\"]\n",
        "\n",
        "# Create a date range\n",
        "start_date = \"2022-01-01\"\n",
        "end_date = \"2022-12-31\"\n",
        "dates = pd.date_range(start=start_date, end=end_date, freq='D')\n",
        "\n",
        "# Generate random data\n",
        "data = {\n",
        "    \"Registration State\": np.random.choice(states, size=num_rows),\n",
        "    \"Violation Description\": np.random.choice(violations, size=num_rows),\n",
        "    \"Vehicle Body Type\": np.random.choice(vehicle_types, size=num_rows),\n",
        "    \"Issue Date\": np.random.choice(dates, size=num_rows),\n",
        "    \"Ticket Number\": np.random.randint(1000000000, 9999999999, size=num_rows)\n",
        "}\n",
        "\n",
        "# Create a DataFrame\n",
        "df = pd.DataFrame(data)\n",
        "\n",
        "# Which parking violation is most commonly committed by vehicles from various U.S states?\n",
        "\n",
        "(df[[\"Registration State\", \"Violation Description\"]]  # get only these two columns\n",
        " .value_counts()  # get the count of offences per state and per type of offence\n",
        " .groupby(\"Registration State\")  # group by state\n",
        " .head(1)  # get the first row in each group (the type of offence with the largest count)\n",
        " .sort_index()  # sort by state name\n",
        " .reset_index()\n",
        ")"
      ],
      "metadata": {
        "id": "XjC1hyO9da3t"
      },
      "execution_count": null,
      "outputs": []
    },
    {
      "cell_type": "code",
      "source": [
        "get_ipython().system('streamlit run app.py')"
      ],
      "metadata": {
        "id": "EhE2ZysAYZzI"
      },
      "execution_count": null,
      "outputs": []
    },
    {
      "cell_type": "code",
      "source": [
        "pip install streamlit-authenticator"
      ],
      "metadata": {
        "id": "eBk6MgaUYaq8"
      },
      "execution_count": null,
      "outputs": []
    },
    {
      "cell_type": "code",
      "source": [],
      "metadata": {
        "id": "RxFG1pJ_Yc67"
      },
      "execution_count": null,
      "outputs": []
    },
    {
      "cell_type": "code",
      "metadata": {
        "id": "ac170cc5"
      },
      "source": [
        "%%writefile app.py\n",
        "import streamlit as st\n",
        "import pandas as pd\n",
        "import json\n",
        "\n",
        "st.set_page_config(page_title=\"UTMA/UGMA Tax Optimization 2025\", layout=\"centered\")\n",
        "\n",
        "# --- Sidebar for navigation ---\n",
        "st.sidebar.title(\"Navigation\")\n",
        "step = st.sidebar.radio(\"Go to\", [\"Account Info\", \"Holdings\", \"Optimization\"])\n",
        "\n",
        "# --- Preset Example Button ---\n",
        "def load_example():\n",
        "    st.session_state['account_id'] = \"ACCT-1001\"\n",
        "    st.session_state['ytd_income'] = 1200.5\n",
        "    st.session_state['positions'] = '[{\"symbol\": \"AAPL\", \"unrealized_gain\": 500, \"quantity\": 10}]'\n",
        "    st.session_state['tax_year'] = \"2025\"\n",
        "\n",
        "st.sidebar.button(\"Load Example\", on_click=load_example)\n",
        "\n",
        "# --- Step 1: Account Info ---\n",
        "if step == \"Account Info\":\n",
        "    st.title(\"Step 1: Enter Account Info\")\n",
        "    account_id = st.text_input(\"Account ID\", key='account_id')\n",
        "    ytd_income = st.number_input(\"YTD Income\", min_value=0.0, step=0.01, key='ytd_income')\n",
        "    tax_year = st.selectbox(\"Tax Year\", [\"2025\", \"2026\"], key='tax_year')\n",
        "\n",
        "# --- Step 2: Holdings ---\n",
        "if step == \"Holdings\":\n",
        "    st.title(\"Step 2: Enter Holdings\")\n",
        "    positions = st.text_area(\"Positions (JSON)\", value=st.session_state.get('positions', ''), key='positions')\n",
        "    st.info('Example: [{\"symbol\": \"AAPL\", \"unrealized_gain\": 500, \"quantity\": 10}]')\n",
        "\n",
        "# --- Step 3: Optimization ---\n",
        "if step == \"Optimization\":\n",
        "    st.title(\"Step 3: Optimize\")\n",
        "    # Retrieve data from session state\n",
        "    account_id = st.session_state.get('account_id', '')\n",
        "    ytd_income = st.session_state.get('ytd_income', 0.0)\n",
        "    tax_year = st.session_state.get('tax_year', '2025')\n",
        "    positions = st.session_state.get('positions', '[]')\n",
        "    try:\n",
        "        positions_data = json.loads(positions)\n",
        "        st.write(\"Account ID:\", account_id)\n",
        "        st.write(\"YTD Income:\", ytd_income)\n",
        "        st.write(\"Tax Year:\", tax_year)\n",
        "        st.write(\"Positions:\", positions_data)\n",
        "        # --- Insert your optimization logic here ---\n",
        "        st.success(\"Optimization complete! (Insert results here)\")\n",
        "    except Exception as e:\n",
        "        st.error(f\"Error in positions JSON: {e}\")\n",
        "\n",
        "# --- Layout Tips ---\n",
        "st.sidebar.markdown(\"---\")\n",
        "st.sidebar.info(\"Tip: Use the sidebar to navigate steps. Use 'Load Example' for a demo.\")"
      ],
      "execution_count": null,
      "outputs": []
    },
    {
      "cell_type": "code",
      "metadata": {
        "id": "15a2893e"
      },
      "source": [
        "get_ipython().system('streamlit run app.py')"
      ],
      "execution_count": null,
      "outputs": []
    }
  ]
}